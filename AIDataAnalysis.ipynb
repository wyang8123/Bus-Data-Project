{
 "cells": [
  {
   "cell_type": "markdown",
   "metadata": {},
   "source": [
    "## **AI Data Analysis**"
   ]
  },
  {
   "cell_type": "markdown",
   "metadata": {},
   "source": [
    "Moving Average Time Series Model\n",
    "Vizualize data through \n",
    "\n",
    "Autoregressive model"
   ]
  },
  {
   "cell_type": "markdown",
   "metadata": {},
   "source": [
    "### **DataFrame**\n",
    "Grabs the training and testing dataset from google drive"
   ]
  },
  {
   "cell_type": "code",
   "execution_count": 1,
   "metadata": {},
   "outputs": [
    {
     "name": "stdout",
     "output_type": "stream",
     "text": [
      "   group_id          arrive_time          depart_time  Fleet_Number   \n",
      "0    2375.0  2023-05-15 07:35:09  2023-05-15 07:35:49           934  \\\n",
      "1    1510.0  2023-05-15 07:35:50  2023-05-15 07:36:10           934   \n",
      "2    2739.0  2023-05-15 07:36:11  2023-05-15 07:36:30           934   \n",
      "3    1385.0  2023-05-15 07:36:32  2023-05-15 07:37:12           934   \n",
      "4    1505.0  2023-05-15 07:37:54  2023-05-15 07:39:15           934   \n",
      "\n",
      "   Timepoint  Time Difference Type Time      Group_Name  \n",
      "0          1  0 days 00:03:26    depart  bayhi_to_oakes  \n",
      "1          0  0 days 00:03:26       NaN  bayhi_to_oakes  \n",
      "2          0  0 days 00:03:26       NaN  bayhi_to_oakes  \n",
      "3          0  0 days 00:03:26       NaN  bayhi_to_oakes  \n",
      "4          1  0 days 00:03:26    depart  bayhi_to_oakes  \n"
     ]
    }
   ],
   "source": [
    "import pandas as pd\n",
    "training_url = 'https://drive.google.com/file/d/1uVq3dwf4CKwLd5U0Y8uMOjxkjjXmXfvO/view?usp=sharing'\n",
    "testing_url='https://drive.google.com/file/d/1tELkS1DEUddnpKkguctOj6t8LvgJYDIz/view?usp=sharing'\n",
    "training_file_id=training_url.split('/')[-2]\n",
    "testing_file_id = testing_url.split('/')[-2]\n",
    "teest_dwn_url='https://drive.google.com/uc?id=' + testing_file_id\n",
    "train_dwn_url = 'https://drive.google.com/uc?id=' + training_file_id\n",
    "training_dataset = pd.read_csv(train_dwn_url)\n",
    "testing_dataset = pd.read_csv(train_dwn_url)\n",
    "print(training_dataset.head())\n",
    "print(testing_dataset.head())"
   ]
  }
 ],
 "metadata": {
  "kernelspec": {
   "display_name": "Python 3",
   "language": "python",
   "name": "python3"
  },
  "language_info": {
   "codemirror_mode": {
    "name": "ipython",
    "version": 3
   },
   "file_extension": ".py",
   "mimetype": "text/x-python",
   "name": "python",
   "nbconvert_exporter": "python",
   "pygments_lexer": "ipython3",
   "version": "3.10.11"
  }
 },
 "nbformat": 4,
 "nbformat_minor": 2
}
