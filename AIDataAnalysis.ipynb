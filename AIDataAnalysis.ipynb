{
 "cells": [
  {
   "cell_type": "markdown",
   "metadata": {},
   "source": [
    "## **AI Data Analysis**"
   ]
  },
  {
   "cell_type": "markdown",
   "metadata": {},
   "source": [
    "Possible Models to test:\n",
    "- Moving Average Time Series Model\n",
    "- Autoregressive Model"
   ]
  },
  {
   "cell_type": "markdown",
   "metadata": {},
   "source": [
    "### **DataFrame**\n",
    "Grabs the training and testing dataset from google drive"
   ]
  },
  {
   "cell_type": "code",
   "execution_count": 3,
   "metadata": {},
   "outputs": [
    {
     "name": "stdout",
     "output_type": "stream",
     "text": [
      "   group_id          arrive_time          depart_time  Fleet_Number   \n",
      "0    2375.0  2023-05-15 07:35:09  2023-05-15 07:35:49           934  \\\n",
      "1    1510.0  2023-05-15 07:35:50  2023-05-15 07:36:10           934   \n",
      "2    2739.0  2023-05-15 07:36:11  2023-05-15 07:36:30           934   \n",
      "3    1385.0  2023-05-15 07:36:32  2023-05-15 07:37:12           934   \n",
      "4    1505.0  2023-05-15 07:37:54  2023-05-15 07:39:15           934   \n",
      "\n",
      "   Timepoint  Time Difference Type Time      Group_Name  \n",
      "0          1  0 days 00:03:26    depart  bayhi_to_oakes  \n",
      "1          0  0 days 00:03:26       NaN  bayhi_to_oakes  \n",
      "2          0  0 days 00:03:26       NaN  bayhi_to_oakes  \n",
      "3          0  0 days 00:03:26       NaN  bayhi_to_oakes  \n",
      "4          1  0 days 00:03:26    depart  bayhi_to_oakes  \n",
      "   group_id          arrive_time          depart_time  Fleet_Number   \n",
      "0    2375.0  2023-05-15 07:35:09  2023-05-15 07:35:49           934  \\\n",
      "1    1510.0  2023-05-15 07:35:50  2023-05-15 07:36:10           934   \n",
      "2    2739.0  2023-05-15 07:36:11  2023-05-15 07:36:30           934   \n",
      "3    1385.0  2023-05-15 07:36:32  2023-05-15 07:37:12           934   \n",
      "4    1505.0  2023-05-15 07:37:54  2023-05-15 07:39:15           934   \n",
      "\n",
      "   Timepoint  Time Difference Type Time      Group_Name  \n",
      "0          1  0 days 00:03:26    depart  bayhi_to_oakes  \n",
      "1          0  0 days 00:03:26       NaN  bayhi_to_oakes  \n",
      "2          0  0 days 00:03:26       NaN  bayhi_to_oakes  \n",
      "3          0  0 days 00:03:26       NaN  bayhi_to_oakes  \n",
      "4          1  0 days 00:03:26    depart  bayhi_to_oakes  \n"
     ]
    }
   ],
   "source": [
    "import pandas as pd\n",
    "training_url = 'https://drive.google.com/file/d/1uVq3dwf4CKwLd5U0Y8uMOjxkjjXmXfvO/view?usp=sharing'\n",
    "testing_url='https://drive.google.com/file/d/1tELkS1DEUddnpKkguctOj6t8LvgJYDIz/view?usp=sharing'\n",
    "training_file_id=training_url.split('/')[-2]\n",
    "testing_file_id = testing_url.split('/')[-2]\n",
    "teest_dwn_url='https://drive.google.com/uc?id=' + testing_file_id\n",
    "train_dwn_url = 'https://drive.google.com/uc?id=' + training_file_id\n",
    "training_dataset = pd.read_csv(train_dwn_url)\n",
    "testing_dataset = pd.read_csv(train_dwn_url)\n",
    "print(training_dataset.head())\n",
    "print(testing_dataset.head())"
   ]
  },
  {
   "cell_type": "markdown",
   "metadata": {},
   "source": [
    "### **Data Visualization**\n",
    "- Vizusalize the data with group name and time"
   ]
  },
  {
   "cell_type": "code",
   "execution_count": 6,
   "metadata": {},
   "outputs": [
    {
     "ename": "IndexError",
     "evalue": "Too many levels: Index has only 1 level, not 2",
     "output_type": "error",
     "traceback": [
      "\u001b[1;31m---------------------------------------------------------------------------\u001b[0m",
      "\u001b[1;31mIndexError\u001b[0m                                Traceback (most recent call last)",
      "\u001b[1;32mg:\\My Drive\\Fall 2023\\TIM 147\\Bus-Data-Project\\AIDataAnalysis.ipynb Cell 6\u001b[0m line \u001b[0;36m2\n\u001b[0;32m      <a href='vscode-notebook-cell:/g%3A/My%20Drive/Fall%202023/TIM%20147/Bus-Data-Project/AIDataAnalysis.ipynb#W5sZmlsZQ%3D%3D?line=0'>1</a>\u001b[0m \u001b[39m#\"listofgroupstosearch\":[\"2300_to_bayhi\", \"mrnlab_to_2300\", \"2300_to_mrnlab\", \"bayhi_to_2300\", \"oakes_to_bayhi\", \"oakes_to_wrm\", \"scihl_to_oakes\",\"cowste_to_scihl\", \"erm_to_cowste\", \"bayhi_to_cowste\", \"cowste_to_bayhi\", \"cowste_to_erm\", \"scihl_to_cowste\"]\u001b[39;00m\n\u001b[1;32m----> <a href='vscode-notebook-cell:/g%3A/My%20Drive/Fall%202023/TIM%20147/Bus-Data-Project/AIDataAnalysis.ipynb#W5sZmlsZQ%3D%3D?line=1'>2</a>\u001b[0m training_dataset\u001b[39m.\u001b[39;49mloc[training_dataset[\u001b[39m\"\u001b[39;49m\u001b[39mGroup_Name\u001b[39;49m\u001b[39m\"\u001b[39;49m] \u001b[39m==\u001b[39;49m \u001b[39m\"\u001b[39;49m\u001b[39moakes_to_bayhi\u001b[39;49m\u001b[39m\"\u001b[39;49m]\u001b[39m.\u001b[39;49mreset_index(\u001b[39mTrue\u001b[39;49;00m)\n",
      "File \u001b[1;32m~\\AppData\\Local\\Packages\\PythonSoftwareFoundation.Python.3.10_qbz5n2kfra8p0\\LocalCache\\local-packages\\Python310\\site-packages\\pandas\\core\\frame.py:6172\u001b[0m, in \u001b[0;36mDataFrame.reset_index\u001b[1;34m(self, level, drop, inplace, col_level, col_fill, allow_duplicates, names)\u001b[0m\n\u001b[0;32m   6170\u001b[0m \u001b[39mif\u001b[39;00m \u001b[39mnot\u001b[39;00m \u001b[39misinstance\u001b[39m(level, (\u001b[39mtuple\u001b[39m, \u001b[39mlist\u001b[39m)):\n\u001b[0;32m   6171\u001b[0m     level \u001b[39m=\u001b[39m [level]\n\u001b[1;32m-> 6172\u001b[0m level \u001b[39m=\u001b[39m [\u001b[39mself\u001b[39m\u001b[39m.\u001b[39mindex\u001b[39m.\u001b[39m_get_level_number(lev) \u001b[39mfor\u001b[39;00m lev \u001b[39min\u001b[39;00m level]\n\u001b[0;32m   6173\u001b[0m \u001b[39mif\u001b[39;00m \u001b[39mlen\u001b[39m(level) \u001b[39m<\u001b[39m \u001b[39mself\u001b[39m\u001b[39m.\u001b[39mindex\u001b[39m.\u001b[39mnlevels:\n\u001b[0;32m   6174\u001b[0m     new_index \u001b[39m=\u001b[39m \u001b[39mself\u001b[39m\u001b[39m.\u001b[39mindex\u001b[39m.\u001b[39mdroplevel(level)\n",
      "File \u001b[1;32m~\\AppData\\Local\\Packages\\PythonSoftwareFoundation.Python.3.10_qbz5n2kfra8p0\\LocalCache\\local-packages\\Python310\\site-packages\\pandas\\core\\frame.py:6172\u001b[0m, in \u001b[0;36m<listcomp>\u001b[1;34m(.0)\u001b[0m\n\u001b[0;32m   6170\u001b[0m \u001b[39mif\u001b[39;00m \u001b[39mnot\u001b[39;00m \u001b[39misinstance\u001b[39m(level, (\u001b[39mtuple\u001b[39m, \u001b[39mlist\u001b[39m)):\n\u001b[0;32m   6171\u001b[0m     level \u001b[39m=\u001b[39m [level]\n\u001b[1;32m-> 6172\u001b[0m level \u001b[39m=\u001b[39m [\u001b[39mself\u001b[39;49m\u001b[39m.\u001b[39;49mindex\u001b[39m.\u001b[39;49m_get_level_number(lev) \u001b[39mfor\u001b[39;00m lev \u001b[39min\u001b[39;00m level]\n\u001b[0;32m   6173\u001b[0m \u001b[39mif\u001b[39;00m \u001b[39mlen\u001b[39m(level) \u001b[39m<\u001b[39m \u001b[39mself\u001b[39m\u001b[39m.\u001b[39mindex\u001b[39m.\u001b[39mnlevels:\n\u001b[0;32m   6174\u001b[0m     new_index \u001b[39m=\u001b[39m \u001b[39mself\u001b[39m\u001b[39m.\u001b[39mindex\u001b[39m.\u001b[39mdroplevel(level)\n",
      "File \u001b[1;32m~\\AppData\\Local\\Packages\\PythonSoftwareFoundation.Python.3.10_qbz5n2kfra8p0\\LocalCache\\local-packages\\Python310\\site-packages\\pandas\\core\\indexes\\base.py:1915\u001b[0m, in \u001b[0;36mIndex._get_level_number\u001b[1;34m(self, level)\u001b[0m\n\u001b[0;32m   1914\u001b[0m \u001b[39mdef\u001b[39;00m \u001b[39m_get_level_number\u001b[39m(\u001b[39mself\u001b[39m, level) \u001b[39m-\u001b[39m\u001b[39m>\u001b[39m \u001b[39mint\u001b[39m:\n\u001b[1;32m-> 1915\u001b[0m     \u001b[39mself\u001b[39;49m\u001b[39m.\u001b[39;49m_validate_index_level(level)\n\u001b[0;32m   1916\u001b[0m     \u001b[39mreturn\u001b[39;00m \u001b[39m0\u001b[39m\n",
      "File \u001b[1;32m~\\AppData\\Local\\Packages\\PythonSoftwareFoundation.Python.3.10_qbz5n2kfra8p0\\LocalCache\\local-packages\\Python310\\site-packages\\pandas\\core\\indexes\\base.py:1906\u001b[0m, in \u001b[0;36mIndex._validate_index_level\u001b[1;34m(self, level)\u001b[0m\n\u001b[0;32m   1901\u001b[0m         \u001b[39mraise\u001b[39;00m \u001b[39mIndexError\u001b[39;00m(\n\u001b[0;32m   1902\u001b[0m             \u001b[39m\"\u001b[39m\u001b[39mToo many levels: Index has only 1 level, \u001b[39m\u001b[39m\"\u001b[39m\n\u001b[0;32m   1903\u001b[0m             \u001b[39mf\u001b[39m\u001b[39m\"\u001b[39m\u001b[39m{\u001b[39;00mlevel\u001b[39m}\u001b[39;00m\u001b[39m is not a valid level number\u001b[39m\u001b[39m\"\u001b[39m\n\u001b[0;32m   1904\u001b[0m         )\n\u001b[0;32m   1905\u001b[0m     \u001b[39mif\u001b[39;00m level \u001b[39m>\u001b[39m \u001b[39m0\u001b[39m:\n\u001b[1;32m-> 1906\u001b[0m         \u001b[39mraise\u001b[39;00m \u001b[39mIndexError\u001b[39;00m(\n\u001b[0;32m   1907\u001b[0m             \u001b[39mf\u001b[39m\u001b[39m\"\u001b[39m\u001b[39mToo many levels: Index has only 1 level, not \u001b[39m\u001b[39m{\u001b[39;00mlevel \u001b[39m+\u001b[39m \u001b[39m1\u001b[39m\u001b[39m}\u001b[39;00m\u001b[39m\"\u001b[39m\n\u001b[0;32m   1908\u001b[0m         )\n\u001b[0;32m   1909\u001b[0m \u001b[39melif\u001b[39;00m level \u001b[39m!=\u001b[39m \u001b[39mself\u001b[39m\u001b[39m.\u001b[39mname:\n\u001b[0;32m   1910\u001b[0m     \u001b[39mraise\u001b[39;00m \u001b[39mKeyError\u001b[39;00m(\n\u001b[0;32m   1911\u001b[0m         \u001b[39mf\u001b[39m\u001b[39m\"\u001b[39m\u001b[39mRequested level (\u001b[39m\u001b[39m{\u001b[39;00mlevel\u001b[39m}\u001b[39;00m\u001b[39m) does not match index name (\u001b[39m\u001b[39m{\u001b[39;00m\u001b[39mself\u001b[39m\u001b[39m.\u001b[39mname\u001b[39m}\u001b[39;00m\u001b[39m)\u001b[39m\u001b[39m\"\u001b[39m\n\u001b[0;32m   1912\u001b[0m     )\n",
      "\u001b[1;31mIndexError\u001b[0m: Too many levels: Index has only 1 level, not 2"
     ]
    }
   ],
   "source": [
    "#\"listofgroupstosearch\":[\"2300_to_bayhi\", \"mrnlab_to_2300\", \"2300_to_mrnlab\", \"bayhi_to_2300\", \"oakes_to_bayhi\", \"oakes_to_wrm\", \"scihl_to_oakes\",\"cowste_to_scihl\", \"erm_to_cowste\", \"bayhi_to_cowste\", \"cowste_to_bayhi\", \"cowste_to_erm\", \"scihl_to_cowste\"]\n",
    "training_dataset.loc[training_dataset[\"Group_Name\"] == \"oakes_to_bayhi\"]"
   ]
  }
 ],
 "metadata": {
  "kernelspec": {
   "display_name": "Python 3",
   "language": "python",
   "name": "python3"
  },
  "language_info": {
   "codemirror_mode": {
    "name": "ipython",
    "version": 3
   },
   "file_extension": ".py",
   "mimetype": "text/x-python",
   "name": "python",
   "nbconvert_exporter": "python",
   "pygments_lexer": "ipython3",
   "version": "3.10.11"
  }
 },
 "nbformat": 4,
 "nbformat_minor": 2
}
