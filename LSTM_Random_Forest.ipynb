{
 "cells": [
  {
   "cell_type": "markdown",
   "metadata": {},
   "source": [
    "## **LSTM and Random Forest Model**"
   ]
  },
  {
   "cell_type": "code",
   "execution_count": 3,
   "metadata": {},
   "outputs": [],
   "source": [
    "import torch\n",
    "import torch.nn as nn\n",
    "import torch.nn.functional as F\n",
    "import torch.optim as optim\n",
    "from torch.utils.data import DataLoader, TensorDataset\n",
    "import torchvision\n",
    "from torchvision import datasets, transforms\n",
    "import matplotlib.pyplot as plt\n",
    "import numpy as np\n",
    "from sklearn.model_selection import train_test_split\n",
    "from sklearn.preprocessing import LabelEncoder\n",
    "import numpy as np\n",
    "import pandas as pd\n",
    "\n",
    "seed=3\n",
    "torch.manual_seed(seed)\n",
    "np.random.seed(seed)"
   ]
  },
  {
   "cell_type": "markdown",
   "metadata": {},
   "source": [
    "### **Dataloader Part**\n",
    "Load Dataset from google drive"
   ]
  },
  {
   "cell_type": "code",
   "execution_count": 4,
   "metadata": {},
   "outputs": [
    {
     "data": {
      "text/plain": [
       "(   group_id          arrive_time          depart_time  Fleet_Number   \n",
       " 0    2375.0  2023-05-15 07:35:09  2023-05-15 07:35:49           934  \\\n",
       " 1    1505.0  2023-05-15 07:37:54  2023-05-15 07:39:15           934   \n",
       " 2    2375.0  2023-05-15 07:53:50  2023-05-15 07:55:10           934   \n",
       " 3    1505.0  2023-05-15 07:57:12  2023-05-15 07:58:15           934   \n",
       " 4    2375.0  2023-05-15 08:24:28  2023-05-15 08:24:48           934   \n",
       " \n",
       "    Timepoint  Time Difference Type Time      Group_Name dayofweek   \n",
       " 0          1  0 days 00:03:26    depart  bayhi_to_oakes         M  \\\n",
       " 1          1  0 days 00:03:26    depart  bayhi_to_oakes         M   \n",
       " 2          1  0 days 00:03:05    depart  bayhi_to_oakes         M   \n",
       " 3          1  0 days 00:03:05    depart  bayhi_to_oakes         M   \n",
       " 4          1  0 days 00:02:40    depart  bayhi_to_oakes         M   \n",
       " \n",
       "               Sequence  \n",
       " 0  05:00:00 - 07:45:00  \n",
       " 1  05:00:00 - 07:45:00  \n",
       " 2  07:50:00 - 07:55:00  \n",
       " 3  07:55:00 - 08:00:00  \n",
       " 4  08:05:00 - 09:00:00  ,\n",
       "    group_id          arrive_time          depart_time  Fleet_Number   \n",
       " 0    2375.0  2023-05-15 07:35:09  2023-05-15 07:35:49           934  \\\n",
       " 1    1505.0  2023-05-15 07:37:54  2023-05-15 07:39:15           934   \n",
       " 2    2375.0  2023-05-15 07:53:50  2023-05-15 07:55:10           934   \n",
       " 3    1505.0  2023-05-15 07:57:12  2023-05-15 07:58:15           934   \n",
       " 4    2375.0  2023-05-15 08:24:28  2023-05-15 08:24:48           934   \n",
       " \n",
       "    Timepoint  Time Difference Type Time      Group_Name dayofweek   \n",
       " 0          1  0 days 00:03:26    depart  bayhi_to_oakes         M  \\\n",
       " 1          1  0 days 00:03:26    depart  bayhi_to_oakes         M   \n",
       " 2          1  0 days 00:03:05    depart  bayhi_to_oakes         M   \n",
       " 3          1  0 days 00:03:05    depart  bayhi_to_oakes         M   \n",
       " 4          1  0 days 00:02:40    depart  bayhi_to_oakes         M   \n",
       " \n",
       "               Sequence  \n",
       " 0  05:00:00 - 07:45:00  \n",
       " 1  05:00:00 - 07:45:00  \n",
       " 2  07:50:00 - 07:55:00  \n",
       " 3  07:55:00 - 08:00:00  \n",
       " 4  08:05:00 - 09:00:00  )"
      ]
     },
     "execution_count": 4,
     "metadata": {},
     "output_type": "execute_result"
    }
   ],
   "source": [
    "import pandas as pd\n",
    "training_url = 'https://drive.google.com/file/d/1uVq3dwf4CKwLd5U0Y8uMOjxkjjXmXfvO/view?usp=sharing'\n",
    "testing_url='https://drive.google.com/file/d/1tELkS1DEUddnpKkguctOj6t8LvgJYDIz/view?usp=sharing'\n",
    "training_file_id=training_url.split('/')[-2]\n",
    "testing_file_id = testing_url.split('/')[-2]\n",
    "teest_dwn_url='https://drive.google.com/uc?id=' + testing_file_id\n",
    "train_dwn_url = 'https://drive.google.com/uc?id=' + training_file_id\n",
    "train_data = pd.read_csv(train_dwn_url)\n",
    "test_data = pd.read_csv(train_dwn_url)\n",
    "train_head = train_data.head()\n",
    "test_head = test_data.head()\n",
    "\n",
    "train_head, test_head"
   ]
  },
  {
   "cell_type": "markdown",
   "metadata": {},
   "source": [
    "### **Use Random Forest Regressor**\n",
    "To predict the arrival time and delay of buses, we will approach the problem in two parts:\n",
    "\n",
    "Arrival Time Prediction: We'll create a model to predict the arrival time of the buses at various stops or locations.\n",
    "Delay Prediction: We'll calculate the delay as the difference between the predicted arrival time and the scheduled arrival time (if available in the data) or the historical average arrival time for that timepoint."
   ]
  },
  {
   "cell_type": "code",
   "execution_count": 5,
   "metadata": {},
   "outputs": [
    {
     "data": {
      "text/plain": [
       "((17977, 7), (4495, 7), (17977, 2), (4495, 2))"
      ]
     },
     "execution_count": 5,
     "metadata": {},
     "output_type": "execute_result"
    }
   ],
   "source": [
    "from sklearn.model_selection import train_test_split\n",
    "from sklearn.preprocessing import LabelEncoder\n",
    "import numpy as np\n",
    "import pandas as pd\n",
    "\n",
    "def prepare_data(df):\n",
    "    df['arrive_hour'] = pd.to_datetime(df['arrive_time']).dt.hour\n",
    "    df['arrive_minute'] = pd.to_datetime(df['arrive_time']).dt.minute\n",
    "    df['depart_hour'] = pd.to_datetime(df['depart_time']).dt.hour\n",
    "    df['depart_minute'] = pd.to_datetime(df['depart_time']).dt.minute\n",
    "    label_encoders = {}\n",
    "    categorical_columns = ['group_id', 'Fleet_Number', 'dayofweek', 'Group_Name', 'Sequence']\n",
    "    for col in categorical_columns:\n",
    "        label_encoders[col] = LabelEncoder()\n",
    "        df[col] = label_encoders[col].fit_transform(df[col])\n",
    "\n",
    "    return df, label_encoders\n",
    "\n",
    "\n",
    "train_data_prepared, label_encoders_train = prepare_data(train_data)\n",
    "test_data_prepared, label_encoders_test = prepare_data(test_data)\n",
    "\n",
    "features = ['group_id', 'Fleet_Number', 'dayofweek', 'Group_Name', 'Sequence', 'depart_hour', 'depart_minute']\n",
    "target = ['arrive_hour', 'arrive_minute']\n",
    "\n",
    "X_train, X_val, y_train, y_val = train_test_split(train_data_prepared[features], train_data_prepared[target], test_size=0.2, random_state=42)\n",
    "\n",
    "X_train.shape, X_val.shape, y_train.shape, y_val.shape\n"
   ]
  },
  {
   "cell_type": "code",
   "execution_count": 6,
   "metadata": {},
   "outputs": [
    {
     "data": {
      "text/plain": [
       "(0.1756247038181571, 5.331250589712805)"
      ]
     },
     "execution_count": 6,
     "metadata": {},
     "output_type": "execute_result"
    }
   ],
   "source": [
    "from sklearn.ensemble import RandomForestRegressor\n",
    "from sklearn.metrics import mean_squared_error\n",
    "import math\n",
    "\n",
    "rf_model = RandomForestRegressor(n_estimators=100, random_state=42)\n",
    "rf_model.fit(X_train, y_train)\n",
    "\n",
    "y_pred = rf_model.predict(X_val)\n",
    "\n",
    "rmse_arrive_hour = math.sqrt(mean_squared_error(y_val['arrive_hour'], y_pred[:, 0]))\n",
    "rmse_arrive_minute = math.sqrt(mean_squared_error(y_val['arrive_minute'], y_pred[:, 1]))\n",
    "\n",
    "rmse_arrive_hour, rmse_arrive_minute\n"
   ]
  },
  {
   "cell_type": "markdown",
   "metadata": {},
   "source": [
    "### **Use LSTM Model**"
   ]
  },
  {
   "cell_type": "code",
   "execution_count": 7,
   "metadata": {},
   "outputs": [],
   "source": [
    "import pandas as pd\n",
    "from sklearn.preprocessing import MinMaxScaler\n",
    "from sklearn.model_selection import train_test_split\n",
    "import numpy as np\n",
    "\n",
    "data = train_data\n",
    "# Convert timestamps to numerical values or extract relevant features (like hour, minute)\n",
    "data['hour'] = pd.to_datetime(data['arrive_time']).dt.hour\n",
    "data['minute'] = pd.to_datetime(data['arrive_time']).dt.minute\n",
    "\n",
    "# Normalize the features\n",
    "scaler = MinMaxScaler(feature_range=(0, 1))\n",
    "scaled_data = scaler.fit_transform(data[['group_id', 'Fleet_Number', 'dayofweek', 'Group_Name', 'Sequence', 'depart_hour', 'depart_minute']])\n",
    "# seasonal pattern\n",
    "# Monthly\n",
    "# Convert the data to sequences\n",
    "def create_sequences(data, sequence_length):\n",
    "    sequences = []\n",
    "    for i in range(len(data) - sequence_length):\n",
    "        sequences.append(data[i:i + sequence_length])\n",
    "    return np.array(sequences)\n",
    "\n",
    "sequence_length = 5  # Number of previous time steps to consider\n",
    "sequences = create_sequences(scaled_data, sequence_length)\n",
    "\n",
    "# Split the data into features and target\n",
    "X = sequences[:, :-1]  # All columns except the last one\n",
    "y = sequences[:, -1, -1]  # Last column of the last sequence\n",
    "\n",
    "# Split into training and testing sets\n",
    "X_train, X_test, y_train, y_test = train_test_split(X, y, test_size=0.2, random_state=42)\n"
   ]
  },
  {
   "cell_type": "code",
   "execution_count": 8,
   "metadata": {},
   "outputs": [
    {
     "name": "stdout",
     "output_type": "stream",
     "text": [
      "TensorFlow version: 2.14.0\n",
      "Failed to find the default GPU.\n"
     ]
    }
   ],
   "source": [
    "import tensorflow as tf\n",
    "\n",
    "\n",
    "print(\"TensorFlow version:\", tf.__version__)\n",
    "\n",
    "if tf.test.gpu_device_name():\n",
    "    print(\"Default GPU Device: {}\".format(tf.test.gpu_device_name()))\n",
    "else:\n",
    "    print(\"Failed to find the default GPU.\")\n"
   ]
  },
  {
   "cell_type": "code",
   "execution_count": 9,
   "metadata": {},
   "outputs": [
    {
     "name": "stdout",
     "output_type": "stream",
     "text": [
      "Epoch 1/500\n",
      "506/506 [==============================] - 8s 7ms/step - loss: 0.0935 - val_loss: 0.0890\n",
      "Epoch 2/500\n",
      "506/506 [==============================] - 3s 6ms/step - loss: 0.0878 - val_loss: 0.0815\n",
      "Epoch 3/500\n",
      "506/506 [==============================] - 3s 6ms/step - loss: 0.0809 - val_loss: 0.0781\n",
      "Epoch 4/500\n",
      "506/506 [==============================] - 3s 5ms/step - loss: 0.0795 - val_loss: 0.0761\n",
      "Epoch 5/500\n",
      "506/506 [==============================] - 3s 6ms/step - loss: 0.0753 - val_loss: 0.0715\n",
      "Epoch 6/500\n",
      "506/506 [==============================] - 3s 6ms/step - loss: 0.0712 - val_loss: 0.0672\n",
      "Epoch 7/500\n",
      "506/506 [==============================] - 4s 7ms/step - loss: 0.0678 - val_loss: 0.0644\n",
      "Epoch 8/500\n",
      "506/506 [==============================] - 4s 7ms/step - loss: 0.0652 - val_loss: 0.0619\n",
      "Epoch 9/500\n",
      "506/506 [==============================] - 4s 8ms/step - loss: 0.0627 - val_loss: 0.0620\n",
      "Epoch 10/500\n",
      "506/506 [==============================] - 4s 8ms/step - loss: 0.0615 - val_loss: 0.0590\n",
      "Epoch 11/500\n",
      "506/506 [==============================] - 4s 8ms/step - loss: 0.0601 - val_loss: 0.0596\n",
      "Epoch 12/500\n",
      "506/506 [==============================] - 4s 8ms/step - loss: 0.0593 - val_loss: 0.0580\n",
      "Epoch 13/500\n",
      "506/506 [==============================] - 4s 8ms/step - loss: 0.0584 - val_loss: 0.0572\n",
      "Epoch 14/500\n",
      "506/506 [==============================] - 4s 8ms/step - loss: 0.0573 - val_loss: 0.0566\n",
      "Epoch 15/500\n",
      "506/506 [==============================] - 4s 8ms/step - loss: 0.0569 - val_loss: 0.0575\n",
      "Epoch 16/500\n",
      "506/506 [==============================] - 3s 7ms/step - loss: 0.0565 - val_loss: 0.0552\n",
      "Epoch 17/500\n",
      "506/506 [==============================] - 4s 8ms/step - loss: 0.0561 - val_loss: 0.0566\n",
      "Epoch 18/500\n",
      "506/506 [==============================] - 4s 8ms/step - loss: 0.0556 - val_loss: 0.0550\n",
      "Epoch 19/500\n",
      "506/506 [==============================] - 4s 8ms/step - loss: 0.0553 - val_loss: 0.0556\n",
      "Epoch 20/500\n",
      "506/506 [==============================] - 4s 7ms/step - loss: 0.0543 - val_loss: 0.0534\n",
      "Epoch 21/500\n",
      "506/506 [==============================] - 3s 7ms/step - loss: 0.0542 - val_loss: 0.0546\n",
      "Epoch 22/500\n",
      "506/506 [==============================] - 4s 7ms/step - loss: 0.0536 - val_loss: 0.0531\n",
      "Epoch 23/500\n",
      "506/506 [==============================] - 4s 8ms/step - loss: 0.0539 - val_loss: 0.0527\n",
      "Epoch 24/500\n",
      "506/506 [==============================] - 4s 8ms/step - loss: 0.0534 - val_loss: 0.0532\n",
      "Epoch 25/500\n",
      "506/506 [==============================] - 4s 7ms/step - loss: 0.0529 - val_loss: 0.0526\n",
      "Epoch 26/500\n",
      "506/506 [==============================] - 4s 7ms/step - loss: 0.0527 - val_loss: 0.0537\n",
      "Epoch 27/500\n",
      "506/506 [==============================] - 4s 7ms/step - loss: 0.0521 - val_loss: 0.0532\n",
      "Epoch 28/500\n",
      "506/506 [==============================] - 4s 8ms/step - loss: 0.0521 - val_loss: 0.0557\n",
      "Epoch 29/500\n",
      "506/506 [==============================] - 4s 8ms/step - loss: 0.0520 - val_loss: 0.0513\n",
      "Epoch 30/500\n",
      "506/506 [==============================] - 4s 8ms/step - loss: 0.0515 - val_loss: 0.0510\n",
      "Epoch 31/500\n",
      "506/506 [==============================] - 4s 7ms/step - loss: 0.0515 - val_loss: 0.0517\n",
      "Epoch 32/500\n",
      "506/506 [==============================] - 4s 7ms/step - loss: 0.0511 - val_loss: 0.0539\n",
      "Epoch 33/500\n",
      "506/506 [==============================] - 4s 7ms/step - loss: 0.0511 - val_loss: 0.0501\n",
      "Epoch 34/500\n",
      "506/506 [==============================] - 3s 7ms/step - loss: 0.0504 - val_loss: 0.0511\n",
      "Epoch 35/500\n",
      "506/506 [==============================] - 4s 7ms/step - loss: 0.0504 - val_loss: 0.0505\n",
      "Epoch 36/500\n",
      "506/506 [==============================] - 4s 7ms/step - loss: 0.0504 - val_loss: 0.0505\n",
      "Epoch 37/500\n",
      "506/506 [==============================] - 4s 8ms/step - loss: 0.0495 - val_loss: 0.0496\n",
      "Epoch 38/500\n",
      "506/506 [==============================] - 4s 8ms/step - loss: 0.0500 - val_loss: 0.0508\n",
      "Epoch 39/500\n",
      "506/506 [==============================] - 4s 8ms/step - loss: 0.0492 - val_loss: 0.0509\n",
      "Epoch 40/500\n",
      "506/506 [==============================] - 4s 8ms/step - loss: 0.0497 - val_loss: 0.0500\n",
      "Epoch 41/500\n",
      "506/506 [==============================] - 4s 7ms/step - loss: 0.0489 - val_loss: 0.0499\n",
      "Epoch 42/500\n",
      " 35/506 [=>............................] - ETA: 3s - loss: 0.0500"
     ]
    },
    {
     "ename": "KeyboardInterrupt",
     "evalue": "",
     "output_type": "error",
     "traceback": [
      "\u001b[1;31m---------------------------------------------------------------------------\u001b[0m",
      "\u001b[1;31mKeyboardInterrupt\u001b[0m                         Traceback (most recent call last)",
      "\u001b[1;32mg:\\My Drive\\Fall 2023\\TIM 147\\Bus-Data-Project\\LSTM_Random_Forest.ipynb Cell 11\u001b[0m line \u001b[0;36m1\n\u001b[0;32m     <a href='vscode-notebook-cell:/g%3A/My%20Drive/Fall%202023/TIM%20147/Bus-Data-Project/LSTM_Random_Forest.ipynb#X13sZmlsZQ%3D%3D?line=11'>12</a>\u001b[0m \u001b[39m# Compile the model\u001b[39;00m\n\u001b[0;32m     <a href='vscode-notebook-cell:/g%3A/My%20Drive/Fall%202023/TIM%20147/Bus-Data-Project/LSTM_Random_Forest.ipynb#X13sZmlsZQ%3D%3D?line=12'>13</a>\u001b[0m model\u001b[39m.\u001b[39mcompile(optimizer\u001b[39m=\u001b[39m\u001b[39m'\u001b[39m\u001b[39madam\u001b[39m\u001b[39m'\u001b[39m, loss\u001b[39m=\u001b[39m\u001b[39m'\u001b[39m\u001b[39mmean_squared_error\u001b[39m\u001b[39m'\u001b[39m)\n\u001b[1;32m---> <a href='vscode-notebook-cell:/g%3A/My%20Drive/Fall%202023/TIM%20147/Bus-Data-Project/LSTM_Random_Forest.ipynb#X13sZmlsZQ%3D%3D?line=13'>14</a>\u001b[0m history \u001b[39m=\u001b[39m model\u001b[39m.\u001b[39;49mfit(X_train, y_train, epochs\u001b[39m=\u001b[39;49m\u001b[39m500\u001b[39;49m, batch_size\u001b[39m=\u001b[39;49m\u001b[39m32\u001b[39;49m, validation_split\u001b[39m=\u001b[39;49m\u001b[39m0.1\u001b[39;49m, verbose\u001b[39m=\u001b[39;49m\u001b[39m1\u001b[39;49m)\n\u001b[0;32m     <a href='vscode-notebook-cell:/g%3A/My%20Drive/Fall%202023/TIM%20147/Bus-Data-Project/LSTM_Random_Forest.ipynb#X13sZmlsZQ%3D%3D?line=14'>15</a>\u001b[0m \u001b[39m#use the random\u001b[39;00m\n",
      "File \u001b[1;32m~\\AppData\\Local\\Packages\\PythonSoftwareFoundation.Python.3.10_qbz5n2kfra8p0\\LocalCache\\local-packages\\Python310\\site-packages\\keras\\src\\utils\\traceback_utils.py:65\u001b[0m, in \u001b[0;36mfilter_traceback.<locals>.error_handler\u001b[1;34m(*args, **kwargs)\u001b[0m\n\u001b[0;32m     63\u001b[0m filtered_tb \u001b[39m=\u001b[39m \u001b[39mNone\u001b[39;00m\n\u001b[0;32m     64\u001b[0m \u001b[39mtry\u001b[39;00m:\n\u001b[1;32m---> 65\u001b[0m     \u001b[39mreturn\u001b[39;00m fn(\u001b[39m*\u001b[39margs, \u001b[39m*\u001b[39m\u001b[39m*\u001b[39mkwargs)\n\u001b[0;32m     66\u001b[0m \u001b[39mexcept\u001b[39;00m \u001b[39mException\u001b[39;00m \u001b[39mas\u001b[39;00m e:\n\u001b[0;32m     67\u001b[0m     filtered_tb \u001b[39m=\u001b[39m _process_traceback_frames(e\u001b[39m.\u001b[39m__traceback__)\n",
      "File \u001b[1;32m~\\AppData\\Local\\Packages\\PythonSoftwareFoundation.Python.3.10_qbz5n2kfra8p0\\LocalCache\\local-packages\\Python310\\site-packages\\keras\\src\\engine\\training.py:1783\u001b[0m, in \u001b[0;36mModel.fit\u001b[1;34m(self, x, y, batch_size, epochs, verbose, callbacks, validation_split, validation_data, shuffle, class_weight, sample_weight, initial_epoch, steps_per_epoch, validation_steps, validation_batch_size, validation_freq, max_queue_size, workers, use_multiprocessing)\u001b[0m\n\u001b[0;32m   1775\u001b[0m \u001b[39mwith\u001b[39;00m tf\u001b[39m.\u001b[39mprofiler\u001b[39m.\u001b[39mexperimental\u001b[39m.\u001b[39mTrace(\n\u001b[0;32m   1776\u001b[0m     \u001b[39m\"\u001b[39m\u001b[39mtrain\u001b[39m\u001b[39m\"\u001b[39m,\n\u001b[0;32m   1777\u001b[0m     epoch_num\u001b[39m=\u001b[39mepoch,\n\u001b[1;32m   (...)\u001b[0m\n\u001b[0;32m   1780\u001b[0m     _r\u001b[39m=\u001b[39m\u001b[39m1\u001b[39m,\n\u001b[0;32m   1781\u001b[0m ):\n\u001b[0;32m   1782\u001b[0m     callbacks\u001b[39m.\u001b[39mon_train_batch_begin(step)\n\u001b[1;32m-> 1783\u001b[0m     tmp_logs \u001b[39m=\u001b[39m \u001b[39mself\u001b[39;49m\u001b[39m.\u001b[39;49mtrain_function(iterator)\n\u001b[0;32m   1784\u001b[0m     \u001b[39mif\u001b[39;00m data_handler\u001b[39m.\u001b[39mshould_sync:\n\u001b[0;32m   1785\u001b[0m         context\u001b[39m.\u001b[39masync_wait()\n",
      "File \u001b[1;32m~\\AppData\\Local\\Packages\\PythonSoftwareFoundation.Python.3.10_qbz5n2kfra8p0\\LocalCache\\local-packages\\Python310\\site-packages\\tensorflow\\python\\util\\traceback_utils.py:150\u001b[0m, in \u001b[0;36mfilter_traceback.<locals>.error_handler\u001b[1;34m(*args, **kwargs)\u001b[0m\n\u001b[0;32m    148\u001b[0m filtered_tb \u001b[39m=\u001b[39m \u001b[39mNone\u001b[39;00m\n\u001b[0;32m    149\u001b[0m \u001b[39mtry\u001b[39;00m:\n\u001b[1;32m--> 150\u001b[0m   \u001b[39mreturn\u001b[39;00m fn(\u001b[39m*\u001b[39margs, \u001b[39m*\u001b[39m\u001b[39m*\u001b[39mkwargs)\n\u001b[0;32m    151\u001b[0m \u001b[39mexcept\u001b[39;00m \u001b[39mException\u001b[39;00m \u001b[39mas\u001b[39;00m e:\n\u001b[0;32m    152\u001b[0m   filtered_tb \u001b[39m=\u001b[39m _process_traceback_frames(e\u001b[39m.\u001b[39m__traceback__)\n",
      "File \u001b[1;32m~\\AppData\\Local\\Packages\\PythonSoftwareFoundation.Python.3.10_qbz5n2kfra8p0\\LocalCache\\local-packages\\Python310\\site-packages\\tensorflow\\python\\eager\\polymorphic_function\\polymorphic_function.py:831\u001b[0m, in \u001b[0;36mFunction.__call__\u001b[1;34m(self, *args, **kwds)\u001b[0m\n\u001b[0;32m    828\u001b[0m compiler \u001b[39m=\u001b[39m \u001b[39m\"\u001b[39m\u001b[39mxla\u001b[39m\u001b[39m\"\u001b[39m \u001b[39mif\u001b[39;00m \u001b[39mself\u001b[39m\u001b[39m.\u001b[39m_jit_compile \u001b[39melse\u001b[39;00m \u001b[39m\"\u001b[39m\u001b[39mnonXla\u001b[39m\u001b[39m\"\u001b[39m\n\u001b[0;32m    830\u001b[0m \u001b[39mwith\u001b[39;00m OptionalXlaContext(\u001b[39mself\u001b[39m\u001b[39m.\u001b[39m_jit_compile):\n\u001b[1;32m--> 831\u001b[0m   result \u001b[39m=\u001b[39m \u001b[39mself\u001b[39m\u001b[39m.\u001b[39m_call(\u001b[39m*\u001b[39margs, \u001b[39m*\u001b[39m\u001b[39m*\u001b[39mkwds)\n\u001b[0;32m    833\u001b[0m new_tracing_count \u001b[39m=\u001b[39m \u001b[39mself\u001b[39m\u001b[39m.\u001b[39mexperimental_get_tracing_count()\n\u001b[0;32m    834\u001b[0m without_tracing \u001b[39m=\u001b[39m (tracing_count \u001b[39m==\u001b[39m new_tracing_count)\n",
      "File \u001b[1;32m~\\AppData\\Local\\Packages\\PythonSoftwareFoundation.Python.3.10_qbz5n2kfra8p0\\LocalCache\\local-packages\\Python310\\site-packages\\tensorflow\\python\\eager\\polymorphic_function\\polymorphic_function.py:867\u001b[0m, in \u001b[0;36mFunction._call\u001b[1;34m(self, *args, **kwds)\u001b[0m\n\u001b[0;32m    864\u001b[0m   \u001b[39mself\u001b[39m\u001b[39m.\u001b[39m_lock\u001b[39m.\u001b[39mrelease()\n\u001b[0;32m    865\u001b[0m   \u001b[39m# In this case we have created variables on the first call, so we run the\u001b[39;00m\n\u001b[0;32m    866\u001b[0m   \u001b[39m# defunned version which is guaranteed to never create variables.\u001b[39;00m\n\u001b[1;32m--> 867\u001b[0m   \u001b[39mreturn\u001b[39;00m tracing_compilation\u001b[39m.\u001b[39;49mcall_function(\n\u001b[0;32m    868\u001b[0m       args, kwds, \u001b[39mself\u001b[39;49m\u001b[39m.\u001b[39;49m_no_variable_creation_config\n\u001b[0;32m    869\u001b[0m   )\n\u001b[0;32m    870\u001b[0m \u001b[39melif\u001b[39;00m \u001b[39mself\u001b[39m\u001b[39m.\u001b[39m_variable_creation_config \u001b[39mis\u001b[39;00m \u001b[39mnot\u001b[39;00m \u001b[39mNone\u001b[39;00m:\n\u001b[0;32m    871\u001b[0m   \u001b[39m# Release the lock early so that multiple threads can perform the call\u001b[39;00m\n\u001b[0;32m    872\u001b[0m   \u001b[39m# in parallel.\u001b[39;00m\n\u001b[0;32m    873\u001b[0m   \u001b[39mself\u001b[39m\u001b[39m.\u001b[39m_lock\u001b[39m.\u001b[39mrelease()\n",
      "File \u001b[1;32m~\\AppData\\Local\\Packages\\PythonSoftwareFoundation.Python.3.10_qbz5n2kfra8p0\\LocalCache\\local-packages\\Python310\\site-packages\\tensorflow\\python\\eager\\polymorphic_function\\tracing_compilation.py:139\u001b[0m, in \u001b[0;36mcall_function\u001b[1;34m(args, kwargs, tracing_options)\u001b[0m\n\u001b[0;32m    137\u001b[0m bound_args \u001b[39m=\u001b[39m function\u001b[39m.\u001b[39mfunction_type\u001b[39m.\u001b[39mbind(\u001b[39m*\u001b[39margs, \u001b[39m*\u001b[39m\u001b[39m*\u001b[39mkwargs)\n\u001b[0;32m    138\u001b[0m flat_inputs \u001b[39m=\u001b[39m function\u001b[39m.\u001b[39mfunction_type\u001b[39m.\u001b[39munpack_inputs(bound_args)\n\u001b[1;32m--> 139\u001b[0m \u001b[39mreturn\u001b[39;00m function\u001b[39m.\u001b[39;49m_call_flat(  \u001b[39m# pylint: disable=protected-access\u001b[39;49;00m\n\u001b[0;32m    140\u001b[0m     flat_inputs, captured_inputs\u001b[39m=\u001b[39;49mfunction\u001b[39m.\u001b[39;49mcaptured_inputs\n\u001b[0;32m    141\u001b[0m )\n",
      "File \u001b[1;32m~\\AppData\\Local\\Packages\\PythonSoftwareFoundation.Python.3.10_qbz5n2kfra8p0\\LocalCache\\local-packages\\Python310\\site-packages\\tensorflow\\python\\eager\\polymorphic_function\\concrete_function.py:1264\u001b[0m, in \u001b[0;36mConcreteFunction._call_flat\u001b[1;34m(self, tensor_inputs, captured_inputs)\u001b[0m\n\u001b[0;32m   1260\u001b[0m possible_gradient_type \u001b[39m=\u001b[39m gradients_util\u001b[39m.\u001b[39mPossibleTapeGradientTypes(args)\n\u001b[0;32m   1261\u001b[0m \u001b[39mif\u001b[39;00m (possible_gradient_type \u001b[39m==\u001b[39m gradients_util\u001b[39m.\u001b[39mPOSSIBLE_GRADIENT_TYPES_NONE\n\u001b[0;32m   1262\u001b[0m     \u001b[39mand\u001b[39;00m executing_eagerly):\n\u001b[0;32m   1263\u001b[0m   \u001b[39m# No tape is watching; skip to running the function.\u001b[39;00m\n\u001b[1;32m-> 1264\u001b[0m   \u001b[39mreturn\u001b[39;00m \u001b[39mself\u001b[39;49m\u001b[39m.\u001b[39;49m_inference_function\u001b[39m.\u001b[39;49mflat_call(args)\n\u001b[0;32m   1265\u001b[0m forward_backward \u001b[39m=\u001b[39m \u001b[39mself\u001b[39m\u001b[39m.\u001b[39m_select_forward_and_backward_functions(\n\u001b[0;32m   1266\u001b[0m     args,\n\u001b[0;32m   1267\u001b[0m     possible_gradient_type,\n\u001b[0;32m   1268\u001b[0m     executing_eagerly)\n\u001b[0;32m   1269\u001b[0m forward_function, args_with_tangents \u001b[39m=\u001b[39m forward_backward\u001b[39m.\u001b[39mforward()\n",
      "File \u001b[1;32m~\\AppData\\Local\\Packages\\PythonSoftwareFoundation.Python.3.10_qbz5n2kfra8p0\\LocalCache\\local-packages\\Python310\\site-packages\\tensorflow\\python\\eager\\polymorphic_function\\atomic_function.py:217\u001b[0m, in \u001b[0;36mAtomicFunction.flat_call\u001b[1;34m(self, args)\u001b[0m\n\u001b[0;32m    215\u001b[0m \u001b[39mdef\u001b[39;00m \u001b[39mflat_call\u001b[39m(\u001b[39mself\u001b[39m, args: Sequence[core\u001b[39m.\u001b[39mTensor]) \u001b[39m-\u001b[39m\u001b[39m>\u001b[39m Any:\n\u001b[0;32m    216\u001b[0m   \u001b[39m\"\"\"Calls with tensor inputs and returns the structured output.\"\"\"\u001b[39;00m\n\u001b[1;32m--> 217\u001b[0m   flat_outputs \u001b[39m=\u001b[39m \u001b[39mself\u001b[39;49m(\u001b[39m*\u001b[39;49margs)\n\u001b[0;32m    218\u001b[0m   \u001b[39mreturn\u001b[39;00m \u001b[39mself\u001b[39m\u001b[39m.\u001b[39mfunction_type\u001b[39m.\u001b[39mpack_output(flat_outputs)\n",
      "File \u001b[1;32m~\\AppData\\Local\\Packages\\PythonSoftwareFoundation.Python.3.10_qbz5n2kfra8p0\\LocalCache\\local-packages\\Python310\\site-packages\\tensorflow\\python\\eager\\polymorphic_function\\atomic_function.py:252\u001b[0m, in \u001b[0;36mAtomicFunction.__call__\u001b[1;34m(self, *args)\u001b[0m\n\u001b[0;32m    250\u001b[0m \u001b[39mwith\u001b[39;00m record\u001b[39m.\u001b[39mstop_recording():\n\u001b[0;32m    251\u001b[0m   \u001b[39mif\u001b[39;00m \u001b[39mself\u001b[39m\u001b[39m.\u001b[39m_bound_context\u001b[39m.\u001b[39mexecuting_eagerly():\n\u001b[1;32m--> 252\u001b[0m     outputs \u001b[39m=\u001b[39m \u001b[39mself\u001b[39;49m\u001b[39m.\u001b[39;49m_bound_context\u001b[39m.\u001b[39;49mcall_function(\n\u001b[0;32m    253\u001b[0m         \u001b[39mself\u001b[39;49m\u001b[39m.\u001b[39;49mname,\n\u001b[0;32m    254\u001b[0m         \u001b[39mlist\u001b[39;49m(args),\n\u001b[0;32m    255\u001b[0m         \u001b[39mlen\u001b[39;49m(\u001b[39mself\u001b[39;49m\u001b[39m.\u001b[39;49mfunction_type\u001b[39m.\u001b[39;49mflat_outputs),\n\u001b[0;32m    256\u001b[0m     )\n\u001b[0;32m    257\u001b[0m   \u001b[39melse\u001b[39;00m:\n\u001b[0;32m    258\u001b[0m     outputs \u001b[39m=\u001b[39m make_call_op_in_graph(\n\u001b[0;32m    259\u001b[0m         \u001b[39mself\u001b[39m,\n\u001b[0;32m    260\u001b[0m         \u001b[39mlist\u001b[39m(args),\n\u001b[0;32m    261\u001b[0m         \u001b[39mself\u001b[39m\u001b[39m.\u001b[39m_bound_context\u001b[39m.\u001b[39mfunction_call_options\u001b[39m.\u001b[39mas_attrs(),\n\u001b[0;32m    262\u001b[0m     )\n",
      "File \u001b[1;32m~\\AppData\\Local\\Packages\\PythonSoftwareFoundation.Python.3.10_qbz5n2kfra8p0\\LocalCache\\local-packages\\Python310\\site-packages\\tensorflow\\python\\eager\\context.py:1479\u001b[0m, in \u001b[0;36mContext.call_function\u001b[1;34m(self, name, tensor_inputs, num_outputs)\u001b[0m\n\u001b[0;32m   1477\u001b[0m cancellation_context \u001b[39m=\u001b[39m cancellation\u001b[39m.\u001b[39mcontext()\n\u001b[0;32m   1478\u001b[0m \u001b[39mif\u001b[39;00m cancellation_context \u001b[39mis\u001b[39;00m \u001b[39mNone\u001b[39;00m:\n\u001b[1;32m-> 1479\u001b[0m   outputs \u001b[39m=\u001b[39m execute\u001b[39m.\u001b[39;49mexecute(\n\u001b[0;32m   1480\u001b[0m       name\u001b[39m.\u001b[39;49mdecode(\u001b[39m\"\u001b[39;49m\u001b[39mutf-8\u001b[39;49m\u001b[39m\"\u001b[39;49m),\n\u001b[0;32m   1481\u001b[0m       num_outputs\u001b[39m=\u001b[39;49mnum_outputs,\n\u001b[0;32m   1482\u001b[0m       inputs\u001b[39m=\u001b[39;49mtensor_inputs,\n\u001b[0;32m   1483\u001b[0m       attrs\u001b[39m=\u001b[39;49mattrs,\n\u001b[0;32m   1484\u001b[0m       ctx\u001b[39m=\u001b[39;49m\u001b[39mself\u001b[39;49m,\n\u001b[0;32m   1485\u001b[0m   )\n\u001b[0;32m   1486\u001b[0m \u001b[39melse\u001b[39;00m:\n\u001b[0;32m   1487\u001b[0m   outputs \u001b[39m=\u001b[39m execute\u001b[39m.\u001b[39mexecute_with_cancellation(\n\u001b[0;32m   1488\u001b[0m       name\u001b[39m.\u001b[39mdecode(\u001b[39m\"\u001b[39m\u001b[39mutf-8\u001b[39m\u001b[39m\"\u001b[39m),\n\u001b[0;32m   1489\u001b[0m       num_outputs\u001b[39m=\u001b[39mnum_outputs,\n\u001b[1;32m   (...)\u001b[0m\n\u001b[0;32m   1493\u001b[0m       cancellation_manager\u001b[39m=\u001b[39mcancellation_context,\n\u001b[0;32m   1494\u001b[0m   )\n",
      "File \u001b[1;32m~\\AppData\\Local\\Packages\\PythonSoftwareFoundation.Python.3.10_qbz5n2kfra8p0\\LocalCache\\local-packages\\Python310\\site-packages\\tensorflow\\python\\eager\\execute.py:60\u001b[0m, in \u001b[0;36mquick_execute\u001b[1;34m(op_name, num_outputs, inputs, attrs, ctx, name)\u001b[0m\n\u001b[0;32m     53\u001b[0m   \u001b[39m# Convert any objects of type core_types.Tensor to Tensor.\u001b[39;00m\n\u001b[0;32m     54\u001b[0m   inputs \u001b[39m=\u001b[39m [\n\u001b[0;32m     55\u001b[0m       tensor_conversion_registry\u001b[39m.\u001b[39mconvert(t)\n\u001b[0;32m     56\u001b[0m       \u001b[39mif\u001b[39;00m \u001b[39misinstance\u001b[39m(t, core_types\u001b[39m.\u001b[39mTensor)\n\u001b[0;32m     57\u001b[0m       \u001b[39melse\u001b[39;00m t\n\u001b[0;32m     58\u001b[0m       \u001b[39mfor\u001b[39;00m t \u001b[39min\u001b[39;00m inputs\n\u001b[0;32m     59\u001b[0m   ]\n\u001b[1;32m---> 60\u001b[0m   tensors \u001b[39m=\u001b[39m pywrap_tfe\u001b[39m.\u001b[39;49mTFE_Py_Execute(ctx\u001b[39m.\u001b[39;49m_handle, device_name, op_name,\n\u001b[0;32m     61\u001b[0m                                       inputs, attrs, num_outputs)\n\u001b[0;32m     62\u001b[0m \u001b[39mexcept\u001b[39;00m core\u001b[39m.\u001b[39m_NotOkStatusException \u001b[39mas\u001b[39;00m e:\n\u001b[0;32m     63\u001b[0m   \u001b[39mif\u001b[39;00m name \u001b[39mis\u001b[39;00m \u001b[39mnot\u001b[39;00m \u001b[39mNone\u001b[39;00m:\n",
      "\u001b[1;31mKeyboardInterrupt\u001b[0m: "
     ]
    }
   ],
   "source": [
    "from tensorflow.keras.models import Sequential\n",
    "from tensorflow.keras.layers import LSTM, Dense, Dropout\n",
    "\n",
    "# Model architecture\n",
    "model = Sequential()\n",
    "model.add(LSTM(50, return_sequences=True, input_shape=(X_train.shape[1], X_train.shape[2])))\n",
    "model.add(Dropout(0.2))\n",
    "model.add(LSTM(50, return_sequences=False))\n",
    "model.add(Dropout(0.2))\n",
    "model.add(Dense(1))  # Output layer\n",
    "\n",
    "# Compile the model\n",
    "model.compile(optimizer='adam', loss='mean_squared_error')\n",
    "history = model.fit(X_train, y_train, epochs=500, batch_size=32, validation_split=0.1, verbose=1)\n",
    "#use the random"
   ]
  },
  {
   "cell_type": "code",
   "execution_count": null,
   "metadata": {},
   "outputs": [],
   "source": [
    "# Evaluate the model\n",
    "train_loss = model.evaluate(X_train, y_train, verbose=0)\n",
    "test_loss = model.evaluate(X_test, y_test, verbose=0)\n",
    "\n",
    "print(f'Training Loss: {train_loss}')\n",
    "print(f'Test Loss: {test_loss}')\n"
   ]
  }
 ],
 "metadata": {
  "kernelspec": {
   "display_name": "Python 3",
   "language": "python",
   "name": "python3"
  },
  "language_info": {
   "codemirror_mode": {
    "name": "ipython",
    "version": 3
   },
   "file_extension": ".py",
   "mimetype": "text/x-python",
   "name": "python",
   "nbconvert_exporter": "python",
   "pygments_lexer": "ipython3",
   "version": "3.10.11"
  }
 },
 "nbformat": 4,
 "nbformat_minor": 2
}
